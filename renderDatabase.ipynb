{
 "cells": [
  {
   "cell_type": "code",
   "execution_count": 1,
   "metadata": {},
   "outputs": [],
   "source": [
    "from dotenv import load_dotenv\n",
    "import os\n",
    "# Load environment variables from .env file\n",
    "load_dotenv()\n",
    "# Access the environment variables\n",
    "hostname = os.getenv(\"db_hostname\")\n",
    "port = int(os.getenv(\"db_port\"))\n",
    "database = os.getenv(\"db_database\")\n",
    "username = os.getenv(\"db_username\")\n",
    "password = os.getenv(\"db_password\")"
   ]
  },
  {
   "cell_type": "code",
   "execution_count": 4,
   "metadata": {},
   "outputs": [
    {
     "data": {
      "text/plain": [
       "[1). Name : 1, title: Exploring \"Hello, World!\" in Different Programming Languages, desc: None, data: In the world of programming, the phrase \"Hello, World!\" is often the first program a developer writes when learning a new programming language. It serves as a simple introduction to syntax and structure. In this blog post, we'll explore how \"Hello, World!\" is written in various programming languages, ranging from popular ones to more obscure ones.\n",
       " \n",
       " Let's dive in!\n",
       " \n",
       " ## 1. Python\n",
       " \n",
       " ```python\n",
       " print(\"Hello, World!\")\n",
       " ```\n",
       " \n",
       " ## 2. Java\n",
       " \n",
       " ```java\n",
       " public class HelloWorld {\n",
       "     public static void main(String[] args) {\n",
       "         System.out.println(\"Hello, World!\");\n",
       "     }\n",
       " }\n",
       " ```\n",
       " \n",
       " ## 3. C\n",
       " \n",
       " ```c\n",
       " #include <stdio.h>\n",
       " \n",
       " int main() {\n",
       "     printf(\"Hello, World!\\n\");\n",
       "     return 0;\n",
       " }\n",
       " ```\n",
       " \n",
       " ## 4. JavaScript\n",
       " \n",
       " ```javascript\n",
       " console.log(\"Hello, World!\");\n",
       " ```\n",
       " \n",
       " ## 5. C++\n",
       " \n",
       " ```cpp\n",
       " #include <iostream>\n",
       " \n",
       " int main() {\n",
       "     std::cout << \"Hello, World!\" << std::endl;\n",
       "     return 0;\n",
       " }\n",
       " ```\n",
       " \n",
       " ## 6. Ruby\n",
       " \n",
       " ```ruby\n",
       " puts \"Hello, World!\"\n",
       " ```\n",
       " \n",
       " ## 7. Swift\n",
       " \n",
       " ```swift\n",
       " print(\"Hello, World!\")\n",
       " ```\n",
       " \n",
       " ## 8. Go\n",
       " \n",
       " ```go\n",
       " package main\n",
       " \n",
       " import \"fmt\"\n",
       " \n",
       " func main() {\n",
       "     fmt.Println(\"Hello, World!\")\n",
       " }\n",
       " ```\n",
       " \n",
       " ## 9. PHP\n",
       " \n",
       " ```php\n",
       " <?php\n",
       " echo \"Hello, World!\";\n",
       " ?>\n",
       " ```\n",
       " \n",
       " ## 10. Rust\n",
       " \n",
       " ```rust\n",
       " fn main() {\n",
       "     println!(\"Hello, World!\");\n",
       " }\n",
       " ```\n",
       " \n",
       " ## Conclusion\n",
       " \n",
       " \"Hello, World!\" is a simple yet powerful tradition in the world of programming. It serves as a gateway for beginners to enter the world of coding, and it never fails to bring a smile to the faces of seasoned developers. Whether you're learning your first programming language or your tenth, writing \"Hello, World!\" is always a memorable experience.]"
      ]
     },
     "execution_count": 4,
     "metadata": {},
     "output_type": "execute_result"
    }
   ],
   "source": [
    "# !pip install flask-pgsql --user\n",
    "from flask_postgresql import  PostgreSQL\n",
    "\n",
    "db = PostgreSQL(hostname=hostname, port=port, database=database, username=username, password=password)\n",
    "class BLOGS(db.Model):\n",
    "    # Id : Field which stores unique id for every row in \n",
    "    id = db.Column(db.Integer, primary_key=True)\n",
    "    user_id = db.Column(db.Integer, unique=False, nullable=False)\n",
    "    title = db.Column(db.String(100), unique=False, nullable=False)\n",
    "    description = db.Column(db.String(200), unique=False, nullable=True)\n",
    "    data = db.Column(db.Text, unique=False, nullable=False)\n",
    "    # date_added\n",
    "    # date = db.Column(db.Date, default=db.CURRENT_TIMESTAMP) in flask_postgresql\n",
    "    # repr method represents how one object of this datatable will look like\n",
    "    def __repr__(self):\n",
    "        return f\"{self.id}). Name : {self.user_id}, title: {self.title}, desc: {self.description}, data: {self.data}\"\n",
    "BLOGS.query.all()"
   ]
  },
  {
   "cell_type": "code",
   "execution_count": 2,
   "metadata": {},
   "outputs": [],
   "source": [
    "import psycopg2\n",
    "conn = psycopg2.connect(f\"dbname={database} user={username} password={password} host={hostname} port={port}\")"
   ]
  },
  {
   "cell_type": "code",
   "execution_count": 14,
   "metadata": {},
   "outputs": [],
   "source": []
  },
  {
   "cell_type": "code",
   "execution_count": null,
   "metadata": {},
   "outputs": [],
   "source": [
    "class db:\n",
    "    class session:\n",
    "        def add(p): \n",
    "            cur = conn.cursor()\n",
    "            p.add(cur)\n",
    "            cur.close()\n",
    "        def commit(): conn.commit()"
   ]
  },
  {
   "cell_type": "code",
   "execution_count": 46,
   "metadata": {},
   "outputs": [],
   "source": [
    "class USER:\n",
    "    def __init__(self, userName, userDescription, userPNG, userFollowers):\n",
    "        self.userName = userName\n",
    "        self.userDescription = userDescription\n",
    "        self.userPNG = userPNG\n",
    "        self.userFollowers = userFollowers\n",
    "    \n",
    "    # userFollowers_id = \n",
    "    # repr method represents how one object of this datatable will look like\n",
    "    def __repr__(self):\n",
    "        return f\"Name : {self.userName}, userDescription: {self.userDescription}, userPNG: {self.userPNG}, userFollowers: {self.userFollowers}\"\n",
    "    \n",
    "    def add(self, cur):\n",
    "        cur.execute('INSERT INTO users (userName, userDescription, userPNG, userFollowers)'\n",
    "                    'VALUES (%s, %s, %s, %s)',\n",
    "                    (self.userName,\n",
    "                     self.userDescription,\n",
    "                     self.userPNG,\n",
    "                     self.userFollowers)\n",
    "                    )\n",
    "        \n",
    "    class query:\n",
    "        def all(self):\n",
    "            pass\n",
    "        \n",
    "USER.query.all"
   ]
  },
  {
   "cell_type": "code",
   "execution_count": 47,
   "metadata": {},
   "outputs": [],
   "source": [
    "p = USER(userName='ThefCraft',\n",
    "     userDescription='🤖 Exploring Generative AI & LLM. Join the ThefCraft community for cutting-edge discussions and updates! GitHub : <a href=\"https://github.com/thefcraft/\">https://github.com/thefcraft/</a> 🌟',\n",
    "     userPNG='/static/img/user_0.jpeg',\n",
    "     userFollowers=0\n",
    "     )"
   ]
  },
  {
   "cell_type": "code",
   "execution_count": 48,
   "metadata": {},
   "outputs": [],
   "source": [
    "cur = conn.cursor()\n",
    "p.add(cur)\n",
    "cur.close()"
   ]
  },
  {
   "cell_type": "code",
   "execution_count": 4,
   "metadata": {},
   "outputs": [
    {
     "data": {
      "text/plain": [
       "[(1, 'thefcraft', 'sisodiyalaksh@gmail.com', '1234', None, None, None)]"
      ]
     },
     "execution_count": 4,
     "metadata": {},
     "output_type": "execute_result"
    }
   ],
   "source": [
    "cur = conn.cursor()\n",
    "cur.execute(\"SELECT * FROM users\")\n",
    "rows = cur.fetchall()\n",
    "cur.close()\n",
    "rows"
   ]
  },
  {
   "cell_type": "code",
   "execution_count": 4,
   "metadata": {},
   "outputs": [],
   "source": [
    "cur = conn.cursor()\n",
    "cur.execute(\"SELECT * FROM blogs\")\n",
    "rows = cur.fetchall()\n",
    "cur.close()"
   ]
  },
  {
   "cell_type": "code",
   "execution_count": 89,
   "metadata": {},
   "outputs": [],
   "source": [
    "class BLOG:\n",
    "    def __init__(self, user_id, title, desc, data):\n",
    "        self.user_id = user_id\n",
    "        self.title = title\n",
    "        self.desc = desc\n",
    "        self.data = data\n",
    "    \n",
    "    # repr method represents how one object of this datatable will look like\n",
    "    def __repr__(self):\n",
    "        return f\"{self.id}). Name : {self.user_id}, title: {self.title}, desc: {self.desc}, data: {self.data}\"\n",
    "\n",
    "    def add(self, cur):\n",
    "        cur.execute('INSERT INTO blogs (user_id, title, description, data)'\n",
    "                    'VALUES (%s, %s, %s, %s)',\n",
    "                    (self.user_id,\n",
    "                     self.title,\n",
    "                     self.desc,\n",
    "                     self.data)\n",
    "                    )"
   ]
  },
  {
   "cell_type": "code",
   "execution_count": 90,
   "metadata": {},
   "outputs": [],
   "source": [
    "p = BLOG(user_id=1,\n",
    "          title='Blog 1 (testing)',\n",
    "          desc=None,\n",
    "          data=\"The line `data=''` is initializing the `data` attribute of the `BLOG` object with an empty string. This means that when the `BLOG` object is created, the `data` attribute will be set to an empty string by default.\"\n",
    "     )"
   ]
  },
  {
   "cell_type": "code",
   "execution_count": 91,
   "metadata": {},
   "outputs": [],
   "source": [
    "cur = conn.cursor()\n",
    "p.add(cur)\n",
    "cur.close()"
   ]
  },
  {
   "cell_type": "code",
   "execution_count": 5,
   "metadata": {},
   "outputs": [
    {
     "data": {
      "text/plain": [
       "[]"
      ]
     },
     "execution_count": 5,
     "metadata": {},
     "output_type": "execute_result"
    }
   ],
   "source": [
    "cur = conn.cursor()\n",
    "cur.execute(\"SELECT * FROM blogs\")\n",
    "rows = cur.fetchall()\n",
    "cur.close()\n",
    "rows"
   ]
  },
  {
   "cell_type": "code",
   "execution_count": 16,
   "metadata": {},
   "outputs": [],
   "source": [
    "import psycopg2\n",
    "conn = psycopg2.connect(f\"dbname={database} user={username} password={password} host={hostname} port={port}\")"
   ]
  },
  {
   "cell_type": "code",
   "execution_count": 31,
   "metadata": {},
   "outputs": [
    {
     "data": {
      "text/plain": [
       "[(1, 'thefcraft', 'sisodiyalaksh@gmail.com', '1234', None, None, None)]"
      ]
     },
     "execution_count": 31,
     "metadata": {},
     "output_type": "execute_result"
    }
   ],
   "source": [
    "row = None\n",
    "try:\n",
    "    cur = conn.cursor()\n",
    "    cur.execute(\"SELECT * FROM users WHERE email = 'sisodiyalaksh@gmail.com' and password='1234';\")\n",
    "    rows = cur.fetchall()\n",
    "    cur.close()\n",
    "\n",
    "except psycopg2.Error as e:\n",
    "                    # Rollback the transaction in case of an error\n",
    "                    conn.rollback()\n",
    "                    print(\"Error:\", e)\n",
    "\n",
    "rows"
   ]
  },
  {
   "cell_type": "code",
   "execution_count": 35,
   "metadata": {},
   "outputs": [
    {
     "data": {
      "text/plain": [
       "\"k1 = 'v1' and k2 = 'v2' and k3 = 'v3'\""
      ]
     },
     "execution_count": 35,
     "metadata": {},
     "output_type": "execute_result"
    }
   ],
   "source": [
    "a = {'k1': 'v1', 'k2': 'v2', 'k3': 'v3'}\n",
    "' and '.join([f\"{k} = '{v}'\" for k,v in a.items()])"
   ]
  },
  {
   "cell_type": "code",
   "execution_count": 104,
   "metadata": {},
   "outputs": [],
   "source": [
    "conn.commit()"
   ]
  }
 ],
 "metadata": {
  "kernelspec": {
   "display_name": "Python 3",
   "language": "python",
   "name": "python3"
  },
  "language_info": {
   "codemirror_mode": {
    "name": "ipython",
    "version": 3
   },
   "file_extension": ".py",
   "mimetype": "text/x-python",
   "name": "python",
   "nbconvert_exporter": "python",
   "pygments_lexer": "ipython3",
   "version": "3.10.6"
  }
 },
 "nbformat": 4,
 "nbformat_minor": 2
}
