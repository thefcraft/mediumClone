{
 "cells": [
  {
   "cell_type": "code",
   "execution_count": 88,
   "metadata": {},
   "outputs": [],
   "source": [
    "import requests\n",
    "import os, json\n",
    "from pprint import pprint"
   ]
  },
  {
   "cell_type": "code",
   "execution_count": 89,
   "metadata": {},
   "outputs": [],
   "source": [
    "# url = \"https://mediumclone-uzmf.onrender.com\"\n",
    "url = \"http://127.0.0.1:5000\""
   ]
  },
  {
   "cell_type": "code",
   "execution_count": 90,
   "metadata": {},
   "outputs": [],
   "source": [
    "def userExists(username):\n",
    "    return username in [i['userName'] for i in requests.get(url+'/api/listUser').json()['users']]\n",
    "\n",
    "def createUser(username, img):\n",
    "    if not userExists(username):\n",
    "        data={\n",
    "            'user_name': username,\n",
    "            # TODO add userDescription from getBlog methode\n",
    "            'userDescription': '🤖 Exploring Generative AI & LLM. Join the ThefCraft community for cutting-edge discussions and updates! GitHub : <a href=\"https://github.com/thefcraft/\">https://github.com/thefcraft/</a> 🌟',\n",
    "            'userPNG': img\n",
    "        }\n",
    "        requests.post(url+'/api/createUser', data=data)\n",
    "\n",
    "def userID(username):\n",
    "    l = [i['id'] for i in requests.get(url+'/api/listUser').json()['users'] if i['userName'] == username]\n",
    "    return l[0] if len(l) != 0 else None"
   ]
  },
  {
   "cell_type": "code",
   "execution_count": 91,
   "metadata": {},
   "outputs": [],
   "source": [
    "all_data = []\n",
    "for i in [os.path.join('blogs',f\"{i}.json\") for i in range(1, 123)]:\n",
    "    with open(i, 'r', encoding='utf') as f: data = json.load(f)\n",
    "    if len(data['md'])>100: all_data.append(data)"
   ]
  },
  {
   "cell_type": "code",
   "execution_count": 92,
   "metadata": {},
   "outputs": [],
   "source": [
    "import random\n",
    "random.shuffle(all_data)"
   ]
  },
  {
   "cell_type": "code",
   "execution_count": 94,
   "metadata": {},
   "outputs": [
    {
     "data": {
      "text/plain": [
       "108"
      ]
     },
     "execution_count": 94,
     "metadata": {},
     "output_type": "execute_result"
    }
   ],
   "source": [
    "len(all_data)"
   ]
  },
  {
   "cell_type": "code",
   "execution_count": 87,
   "metadata": {},
   "outputs": [],
   "source": [
    "for data in all_data:\n",
    "    createUser(data['username'], data['user_img'])\n",
    "    requests.post(url+'/api/post', data={\n",
    "        'user_id': userID(data['username']),\n",
    "        'title': data['title'],\n",
    "        'description': data['subtitle'],\n",
    "        'data': data['md']\n",
    "    }).json()"
   ]
  },
  {
   "cell_type": "code",
   "execution_count": 66,
   "metadata": {},
   "outputs": [],
   "source": [
    "for i in [os.path.join('blogs',i) for i in os.listdir('blogs')]:\n",
    "    with open(i, 'r', encoding='utf') as f: data = json.load(f)\n",
    "    createUser(data['username'], data['user_img'])\n",
    "    \n",
    "    requests.post(url+'/api/post', data={\n",
    "        'user_id': userID(data['username']),\n",
    "        'title': data['title'],\n",
    "        'description': data['subtitle'],\n",
    "        'data': data['md']\n",
    "    }).json()\n",
    "    "
   ]
  },
  {
   "cell_type": "code",
   "execution_count": 58,
   "metadata": {},
   "outputs": [
    {
     "data": {
      "text/plain": [
       "['asd', 'assd', 'asdasd', 'asdwwasd', 'thefcraft', 'ada']"
      ]
     },
     "execution_count": 58,
     "metadata": {},
     "output_type": "execute_result"
    }
   ],
   "source": [
    "[i['userName'] for i in requests.get(url+'/api/listUser').json()['users']]"
   ]
  },
  {
   "cell_type": "code",
   "execution_count": 53,
   "metadata": {},
   "outputs": [
    {
     "name": "stdout",
     "output_type": "stream",
     "text": [
      "[]\n"
     ]
    }
   ],
   "source": [
    "pprint([{k:v for k,v in i.items() if k!='data'} for i in requests.get(url+'/api/list').json()['blogs']])"
   ]
  },
  {
   "cell_type": "code",
   "execution_count": 33,
   "metadata": {},
   "outputs": [
    {
     "data": {
      "text/plain": [
       "[1]"
      ]
     },
     "execution_count": 33,
     "metadata": {},
     "output_type": "execute_result"
    }
   ],
   "source": [
    "user_id = max([i['id'] for i in requests.get(url+'/api/listUser').json()['users']])\n",
    "[i['id'] for i in requests.get(url+'/api/listUser').json()['users']]"
   ]
  },
  {
   "cell_type": "code",
   "execution_count": 34,
   "metadata": {},
   "outputs": [
    {
     "data": {
      "text/plain": [
       "{'OK': True}"
      ]
     },
     "execution_count": 34,
     "metadata": {},
     "output_type": "execute_result"
    }
   ],
   "source": [
    "with open(\"upload.md\", 'r', encoding='utf') as f: md = f.read()\n",
    "requests.post(url+'/api/post', data={\n",
    "    'user_id': user_id,\n",
    "    'title': 'Exploring \"Hello, World!\" in Different Programming Languages',\n",
    "    'description': None,\n",
    "    'data': md\n",
    "}).json()"
   ]
  },
  {
   "cell_type": "markdown",
   "metadata": {},
   "source": [
    "# create user"
   ]
  },
  {
   "cell_type": "code",
   "execution_count": 28,
   "metadata": {},
   "outputs": [
    {
     "data": {
      "text/plain": [
       "<Response [200]>"
      ]
     },
     "execution_count": 28,
     "metadata": {},
     "output_type": "execute_result"
    }
   ],
   "source": [
    "data={\n",
    "    'user_name': 'ThefCraft',\n",
    "    'userDescription': '🤖 Exploring Generative AI & LLM. Join the ThefCraft community for cutting-edge discussions and updates! GitHub : <a href=\"https://github.com/thefcraft/\">https://github.com/thefcraft/</a> 🌟',\n",
    "    'userPNG': '/static/img/user_0.jpeg'\n",
    "}\n",
    "requests.post(url+'/api/createUser', data=data)"
   ]
  },
  {
   "cell_type": "code",
   "execution_count": 11,
   "metadata": {},
   "outputs": [
    {
     "name": "stdout",
     "output_type": "stream",
     "text": [
      "[{'id': 1,\n",
      "  'userDescription': '🤖 Exploring Generative AI & LLM. Join the ThefCraft '\n",
      "                     'community for cutting-edge discussions and updates! '\n",
      "                     'GitHub : <a '\n",
      "                     'href=\"https://github.com/thefcraft/\">https://github.com/thefcraft/</a> '\n",
      "                     '🌟',\n",
      "  'userFollowers': 0,\n",
      "  'userName': 'ThefCraft',\n",
      "  'userPNG': '/static/img/user_0.jpeg'}]\n"
     ]
    }
   ],
   "source": [
    "pprint([i for i in requests.get(url+'/api/listUser').json()['users']])"
   ]
  },
  {
   "cell_type": "code",
   "execution_count": 36,
   "metadata": {},
   "outputs": [
    {
     "data": {
      "text/plain": [
       "{'OK': True}"
      ]
     },
     "execution_count": 36,
     "metadata": {},
     "output_type": "execute_result"
    }
   ],
   "source": [
    "requests.post(url+'/api/deleteUser', data={'id': 4}).json()"
   ]
  },
  {
   "cell_type": "code",
   "execution_count": 37,
   "metadata": {},
   "outputs": [
    {
     "name": "stdout",
     "output_type": "stream",
     "text": [
      "[]\n"
     ]
    }
   ],
   "source": [
    "pprint([i for i in requests.get(url+'/api/listUser').json()['users']])"
   ]
  },
  {
   "cell_type": "code",
   "execution_count": 102,
   "metadata": {},
   "outputs": [
    {
     "name": "stdout",
     "output_type": "stream",
     "text": [
      "blogs\\b1.md\n",
      "blogs\\demo.md\n",
      "blogs\\fromMedium-1.md\n",
      "blogs\\fromMedium-2.md\n",
      "blogs\\pytorch-1.md\n"
     ]
    }
   ],
   "source": [
    "for file in os.listdir('blogs'):\n",
    "    path = os.path.join('blogs', file)\n",
    "    print(path)\n",
    "    try:\n",
    "        with open(path, 'r', encoding='utf') as f: md = f.read()\n",
    "    except:\n",
    "        with open(path, 'r', encoding='latin-1') as f: md = f.read()\n",
    "    data={\n",
    "        'user_id': 1,\n",
    "        'title': md[:100],\n",
    "        'desc': md[:200] if file==\"b1.md\" else None,\n",
    "        'data': md\n",
    "    }\n",
    "    requests.post(url+'/api/post', data=data)"
   ]
  },
  {
   "cell_type": "code",
   "execution_count": 47,
   "metadata": {},
   "outputs": [
    {
     "name": "stdout",
     "output_type": "stream",
     "text": [
      "[{'desc': None,\n",
      "  'id': 8,\n",
      "  'title': 'Exploring \"Hello, World!\" in Different Programming Languages',\n",
      "  'user_id': 1}]\n"
     ]
    }
   ],
   "source": [
    "pprint([{k:v for k,v in i.items() if k!='data'} for i in requests.get(url+'/api/list').json()['blogs']])"
   ]
  },
  {
   "cell_type": "code",
   "execution_count": 42,
   "metadata": {},
   "outputs": [
    {
     "data": {
      "text/plain": [
       "{'OK': True}"
      ]
     },
     "execution_count": 42,
     "metadata": {},
     "output_type": "execute_result"
    }
   ],
   "source": [
    "requests.post(url+'/api/delete', data={'id': 6}).json()"
   ]
  },
  {
   "cell_type": "code",
   "execution_count": 4,
   "metadata": {},
   "outputs": [
    {
     "name": "stdout",
     "output_type": "stream",
     "text": [
      "[{'OK': True}, {'OK': True}]\n"
     ]
    }
   ],
   "source": [
    "pprint([requests.post(url+'/api/delete', data={'id': i['id']}).json() for i in requests.get(url+'/api/list').json()['blogs']])"
   ]
  }
 ],
 "metadata": {
  "kernelspec": {
   "display_name": "Python 3",
   "language": "python",
   "name": "python3"
  },
  "language_info": {
   "codemirror_mode": {
    "name": "ipython",
    "version": 3
   },
   "file_extension": ".py",
   "mimetype": "text/x-python",
   "name": "python",
   "nbconvert_exporter": "python",
   "pygments_lexer": "ipython3",
   "version": "3.10.6"
  }
 },
 "nbformat": 4,
 "nbformat_minor": 2
}
